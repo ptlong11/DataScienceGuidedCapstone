{
 "cells": [
  {
   "cell_type": "markdown",
   "id": "8858e94e",
   "metadata": {},
   "source": [
    "# Dogs of Zürich"
   ]
  },
  {
   "cell_type": "markdown",
   "id": "bc090b2b",
   "metadata": {},
   "source": [
    "In this study I will take a deeper look into dog ownership in Zurich.\n",
    "This will give us insight into how old most dog owners are in Zurich, how old their dogs are, and where to live if you want to own a dog!"
   ]
  },
  {
   "cell_type": "code",
   "execution_count": 1,
   "id": "1c520052",
   "metadata": {},
   "outputs": [],
   "source": [
    "# Import relevant libraries\n",
    "import numpy as np \n",
    "import pandas as pd \n",
    "import matplotlib.pyplot as plt \n",
    "import seaborn as sns"
   ]
  },
  {
   "cell_type": "code",
   "execution_count": 3,
   "id": "03a36232",
   "metadata": {},
   "outputs": [
    {
     "data": {
      "text/html": [
       "<div>\n",
       "<style scoped>\n",
       "    .dataframe tbody tr th:only-of-type {\n",
       "        vertical-align: middle;\n",
       "    }\n",
       "\n",
       "    .dataframe tbody tr th {\n",
       "        vertical-align: top;\n",
       "    }\n",
       "\n",
       "    .dataframe thead th {\n",
       "        text-align: right;\n",
       "    }\n",
       "</style>\n",
       "<table border=\"1\" class=\"dataframe\">\n",
       "  <thead>\n",
       "    <tr style=\"text-align: right;\">\n",
       "      <th></th>\n",
       "      <th>HALTER_ID</th>\n",
       "      <th>ALTER</th>\n",
       "      <th>GESCHLECHT</th>\n",
       "      <th>STADTKREIS</th>\n",
       "      <th>STADTQUARTIER</th>\n",
       "      <th>RASSE1</th>\n",
       "      <th>RASSE1_MISCHLING</th>\n",
       "      <th>RASSE2</th>\n",
       "      <th>RASSE2_MISCHLING</th>\n",
       "      <th>RASSENTYP</th>\n",
       "      <th>GEBURTSJAHR_HUND</th>\n",
       "      <th>GESCHLECHT_HUND</th>\n",
       "      <th>HUNDEFARBE</th>\n",
       "    </tr>\n",
       "  </thead>\n",
       "  <tbody>\n",
       "    <tr>\n",
       "      <th>0</th>\n",
       "      <td>126</td>\n",
       "      <td>61-70</td>\n",
       "      <td>m</td>\n",
       "      <td>9.0</td>\n",
       "      <td>92.0</td>\n",
       "      <td>Welsh Terrier</td>\n",
       "      <td>NaN</td>\n",
       "      <td>NaN</td>\n",
       "      <td>NaN</td>\n",
       "      <td>K</td>\n",
       "      <td>2011</td>\n",
       "      <td>w</td>\n",
       "      <td>schwarz/braun</td>\n",
       "    </tr>\n",
       "    <tr>\n",
       "      <th>1</th>\n",
       "      <td>171</td>\n",
       "      <td>61-70</td>\n",
       "      <td>m</td>\n",
       "      <td>3.0</td>\n",
       "      <td>31.0</td>\n",
       "      <td>Berner Sennenhund</td>\n",
       "      <td>NaN</td>\n",
       "      <td>NaN</td>\n",
       "      <td>NaN</td>\n",
       "      <td>I</td>\n",
       "      <td>2009</td>\n",
       "      <td>m</td>\n",
       "      <td>tricolor</td>\n",
       "    </tr>\n",
       "    <tr>\n",
       "      <th>2</th>\n",
       "      <td>574</td>\n",
       "      <td>61-70</td>\n",
       "      <td>w</td>\n",
       "      <td>2.0</td>\n",
       "      <td>23.0</td>\n",
       "      <td>Mischling gross</td>\n",
       "      <td>NaN</td>\n",
       "      <td>NaN</td>\n",
       "      <td>NaN</td>\n",
       "      <td>I</td>\n",
       "      <td>2013</td>\n",
       "      <td>w</td>\n",
       "      <td>schwarz</td>\n",
       "    </tr>\n",
       "    <tr>\n",
       "      <th>3</th>\n",
       "      <td>695</td>\n",
       "      <td>41-50</td>\n",
       "      <td>m</td>\n",
       "      <td>6.0</td>\n",
       "      <td>63.0</td>\n",
       "      <td>Labrador Retriever</td>\n",
       "      <td>NaN</td>\n",
       "      <td>NaN</td>\n",
       "      <td>NaN</td>\n",
       "      <td>I</td>\n",
       "      <td>2012</td>\n",
       "      <td>w</td>\n",
       "      <td>braun</td>\n",
       "    </tr>\n",
       "    <tr>\n",
       "      <th>4</th>\n",
       "      <td>893</td>\n",
       "      <td>61-70</td>\n",
       "      <td>w</td>\n",
       "      <td>7.0</td>\n",
       "      <td>71.0</td>\n",
       "      <td>Mittelschnauzer</td>\n",
       "      <td>NaN</td>\n",
       "      <td>NaN</td>\n",
       "      <td>NaN</td>\n",
       "      <td>I</td>\n",
       "      <td>2010</td>\n",
       "      <td>w</td>\n",
       "      <td>schwarz</td>\n",
       "    </tr>\n",
       "  </tbody>\n",
       "</table>\n",
       "</div>"
      ],
      "text/plain": [
       "   HALTER_ID  ALTER GESCHLECHT  STADTKREIS  STADTQUARTIER              RASSE1  \\\n",
       "0        126  61-70          m         9.0           92.0       Welsh Terrier   \n",
       "1        171  61-70          m         3.0           31.0   Berner Sennenhund   \n",
       "2        574  61-70          w         2.0           23.0     Mischling gross   \n",
       "3        695  41-50          m         6.0           63.0  Labrador Retriever   \n",
       "4        893  61-70          w         7.0           71.0     Mittelschnauzer   \n",
       "\n",
       "  RASSE1_MISCHLING RASSE2  RASSE2_MISCHLING RASSENTYP  GEBURTSJAHR_HUND  \\\n",
       "0              NaN    NaN               NaN         K              2011   \n",
       "1              NaN    NaN               NaN         I              2009   \n",
       "2              NaN    NaN               NaN         I              2013   \n",
       "3              NaN    NaN               NaN         I              2012   \n",
       "4              NaN    NaN               NaN         I              2010   \n",
       "\n",
       "  GESCHLECHT_HUND     HUNDEFARBE  \n",
       "0               w  schwarz/braun  \n",
       "1               m       tricolor  \n",
       "2               w        schwarz  \n",
       "3               w          braun  \n",
       "4               w        schwarz  "
      ]
     },
     "execution_count": 3,
     "metadata": {},
     "output_type": "execute_result"
    }
   ],
   "source": [
    "# Load and take a look at the data\n",
    "\n",
    "dogs17 = pd.read_csv(r\"C:\\Users\\ptlon\\OneDrive\\Desktop\\20170308hundehalter.csv\")\n",
    "dogs17.head()"
   ]
  },
  {
   "cell_type": "code",
   "execution_count": 4,
   "id": "0ffda65b",
   "metadata": {},
   "outputs": [
    {
     "data": {
      "text/plain": [
       "array([nan, 'Mischling'], dtype=object)"
      ]
     },
     "execution_count": 4,
     "metadata": {},
     "output_type": "execute_result"
    }
   ],
   "source": [
    "dogs17.RASSE1_MISCHLING.unique()"
   ]
  },
  {
   "cell_type": "code",
   "execution_count": 5,
   "id": "89acfd57",
   "metadata": {},
   "outputs": [
    {
     "data": {
      "text/plain": [
       "array([nan])"
      ]
     },
     "execution_count": 5,
     "metadata": {},
     "output_type": "execute_result"
    }
   ],
   "source": [
    "dogs17.RASSE2_MISCHLING.unique()"
   ]
  },
  {
   "cell_type": "code",
   "execution_count": 6,
   "id": "057ac208",
   "metadata": {},
   "outputs": [],
   "source": [
    "# translate column names from German to English\n",
    "dogs17.rename({'ALTER': 'Age', 'GESCHLECHT': 'Gender', 'STADTKREIS': 'District', 'RASSE1': 'Breed1', 'RASSE2': 'Breed2', 'GEBURTSJAHR_HUND': 'BirthYear_Dog', 'GESCHLECHT_HUND': 'Gender_Dog', 'HUNDEFARBE': 'Color_Dog', 'RASSE1_MISCHLING': 'Mixed Breed', 'RASSENTYP':'Breed Type', 'STADTQUARTIER': 'City Quarter'}, axis='columns', inplace=True)\n"
   ]
  },
  {
   "cell_type": "code",
   "execution_count": 7,
   "id": "c1ebebe8",
   "metadata": {},
   "outputs": [
    {
     "data": {
      "text/html": [
       "<div>\n",
       "<style scoped>\n",
       "    .dataframe tbody tr th:only-of-type {\n",
       "        vertical-align: middle;\n",
       "    }\n",
       "\n",
       "    .dataframe tbody tr th {\n",
       "        vertical-align: top;\n",
       "    }\n",
       "\n",
       "    .dataframe thead th {\n",
       "        text-align: right;\n",
       "    }\n",
       "</style>\n",
       "<table border=\"1\" class=\"dataframe\">\n",
       "  <thead>\n",
       "    <tr style=\"text-align: right;\">\n",
       "      <th></th>\n",
       "      <th>HALTER_ID</th>\n",
       "      <th>Age</th>\n",
       "      <th>Gender</th>\n",
       "      <th>District</th>\n",
       "      <th>City Quarter</th>\n",
       "      <th>Breed1</th>\n",
       "      <th>Mixed Breed</th>\n",
       "      <th>Breed2</th>\n",
       "      <th>RASSE2_MISCHLING</th>\n",
       "      <th>Breed Type</th>\n",
       "      <th>BirthYear_Dog</th>\n",
       "      <th>Gender_Dog</th>\n",
       "      <th>Color_Dog</th>\n",
       "    </tr>\n",
       "  </thead>\n",
       "  <tbody>\n",
       "    <tr>\n",
       "      <th>0</th>\n",
       "      <td>126</td>\n",
       "      <td>61-70</td>\n",
       "      <td>m</td>\n",
       "      <td>9.0</td>\n",
       "      <td>92.0</td>\n",
       "      <td>Welsh Terrier</td>\n",
       "      <td>NaN</td>\n",
       "      <td>NaN</td>\n",
       "      <td>NaN</td>\n",
       "      <td>K</td>\n",
       "      <td>2011</td>\n",
       "      <td>w</td>\n",
       "      <td>schwarz/braun</td>\n",
       "    </tr>\n",
       "    <tr>\n",
       "      <th>1</th>\n",
       "      <td>171</td>\n",
       "      <td>61-70</td>\n",
       "      <td>m</td>\n",
       "      <td>3.0</td>\n",
       "      <td>31.0</td>\n",
       "      <td>Berner Sennenhund</td>\n",
       "      <td>NaN</td>\n",
       "      <td>NaN</td>\n",
       "      <td>NaN</td>\n",
       "      <td>I</td>\n",
       "      <td>2009</td>\n",
       "      <td>m</td>\n",
       "      <td>tricolor</td>\n",
       "    </tr>\n",
       "    <tr>\n",
       "      <th>2</th>\n",
       "      <td>574</td>\n",
       "      <td>61-70</td>\n",
       "      <td>w</td>\n",
       "      <td>2.0</td>\n",
       "      <td>23.0</td>\n",
       "      <td>Mischling gross</td>\n",
       "      <td>NaN</td>\n",
       "      <td>NaN</td>\n",
       "      <td>NaN</td>\n",
       "      <td>I</td>\n",
       "      <td>2013</td>\n",
       "      <td>w</td>\n",
       "      <td>schwarz</td>\n",
       "    </tr>\n",
       "    <tr>\n",
       "      <th>3</th>\n",
       "      <td>695</td>\n",
       "      <td>41-50</td>\n",
       "      <td>m</td>\n",
       "      <td>6.0</td>\n",
       "      <td>63.0</td>\n",
       "      <td>Labrador Retriever</td>\n",
       "      <td>NaN</td>\n",
       "      <td>NaN</td>\n",
       "      <td>NaN</td>\n",
       "      <td>I</td>\n",
       "      <td>2012</td>\n",
       "      <td>w</td>\n",
       "      <td>braun</td>\n",
       "    </tr>\n",
       "    <tr>\n",
       "      <th>4</th>\n",
       "      <td>893</td>\n",
       "      <td>61-70</td>\n",
       "      <td>w</td>\n",
       "      <td>7.0</td>\n",
       "      <td>71.0</td>\n",
       "      <td>Mittelschnauzer</td>\n",
       "      <td>NaN</td>\n",
       "      <td>NaN</td>\n",
       "      <td>NaN</td>\n",
       "      <td>I</td>\n",
       "      <td>2010</td>\n",
       "      <td>w</td>\n",
       "      <td>schwarz</td>\n",
       "    </tr>\n",
       "  </tbody>\n",
       "</table>\n",
       "</div>"
      ],
      "text/plain": [
       "   HALTER_ID    Age Gender  District  City Quarter              Breed1  \\\n",
       "0        126  61-70      m       9.0          92.0       Welsh Terrier   \n",
       "1        171  61-70      m       3.0          31.0   Berner Sennenhund   \n",
       "2        574  61-70      w       2.0          23.0     Mischling gross   \n",
       "3        695  41-50      m       6.0          63.0  Labrador Retriever   \n",
       "4        893  61-70      w       7.0          71.0     Mittelschnauzer   \n",
       "\n",
       "  Mixed Breed Breed2  RASSE2_MISCHLING Breed Type  BirthYear_Dog Gender_Dog  \\\n",
       "0         NaN    NaN               NaN          K           2011          w   \n",
       "1         NaN    NaN               NaN          I           2009          m   \n",
       "2         NaN    NaN               NaN          I           2013          w   \n",
       "3         NaN    NaN               NaN          I           2012          w   \n",
       "4         NaN    NaN               NaN          I           2010          w   \n",
       "\n",
       "       Color_Dog  \n",
       "0  schwarz/braun  \n",
       "1       tricolor  \n",
       "2        schwarz  \n",
       "3          braun  \n",
       "4        schwarz  "
      ]
     },
     "execution_count": 7,
     "metadata": {},
     "output_type": "execute_result"
    }
   ],
   "source": [
    "dogs17.head()"
   ]
  },
  {
   "cell_type": "code",
   "execution_count": 8,
   "id": "3f5fe792",
   "metadata": {},
   "outputs": [],
   "source": [
    "# drop column with all NAN\n",
    "dogs17.drop('RASSE2_MISCHLING', axis=1, inplace=True)"
   ]
  },
  {
   "cell_type": "code",
   "execution_count": 9,
   "id": "c8221c8d",
   "metadata": {},
   "outputs": [
    {
     "data": {
      "text/plain": [
       "array([0., 1.])"
      ]
     },
     "execution_count": 9,
     "metadata": {},
     "output_type": "execute_result"
    }
   ],
   "source": [
    "# replace values - 1 for mixed breed, 0 for pure breed\n",
    "dogs17['Mixed Breed'].replace(to_replace='Mischling', value=1, inplace=True)\n",
    "dogs17['Mixed Breed'] = dogs17['Mixed Breed'].fillna(0)\n",
    "dogs17['Mixed Breed'].unique()"
   ]
  },
  {
   "cell_type": "code",
   "execution_count": 10,
   "id": "612ed716",
   "metadata": {},
   "outputs": [
    {
     "name": "stdout",
     "output_type": "stream",
     "text": [
      "<class 'pandas.core.frame.DataFrame'>\n",
      "RangeIndex: 7155 entries, 0 to 7154\n",
      "Data columns (total 12 columns):\n",
      " #   Column         Non-Null Count  Dtype  \n",
      "---  ------         --------------  -----  \n",
      " 0   HALTER_ID      7155 non-null   int64  \n",
      " 1   Age            7154 non-null   object \n",
      " 2   Gender         7155 non-null   object \n",
      " 3   District       7154 non-null   float64\n",
      " 4   City Quarter   7154 non-null   float64\n",
      " 5   Breed1         7155 non-null   object \n",
      " 6   Mixed Breed    7155 non-null   float64\n",
      " 7   Breed2         543 non-null    object \n",
      " 8   Breed Type     7155 non-null   object \n",
      " 9   BirthYear_Dog  7155 non-null   int64  \n",
      " 10  Gender_Dog     7155 non-null   object \n",
      " 11  Color_Dog      7155 non-null   object \n",
      "dtypes: float64(3), int64(2), object(7)\n",
      "memory usage: 670.9+ KB\n"
     ]
    }
   ],
   "source": [
    "dogs17.info()"
   ]
  },
  {
   "cell_type": "code",
   "execution_count": 11,
   "id": "12b31b7b",
   "metadata": {},
   "outputs": [],
   "source": [
    "# replace NaN values - no secondary breed for purebred dogs \n",
    "dogs17['Breed2'] = dogs17['Breed2'].fillna('None')"
   ]
  },
  {
   "cell_type": "code",
   "execution_count": 12,
   "id": "3969cba2",
   "metadata": {},
   "outputs": [],
   "source": [
    "# drop rows with missing data\n",
    "dogs17 = dogs17.dropna()\n"
   ]
  },
  {
   "cell_type": "code",
   "execution_count": 13,
   "id": "1ad30ca6",
   "metadata": {},
   "outputs": [
    {
     "name": "stdout",
     "output_type": "stream",
     "text": [
      "<class 'pandas.core.frame.DataFrame'>\n",
      "Int64Index: 7154 entries, 0 to 7154\n",
      "Data columns (total 12 columns):\n",
      " #   Column         Non-Null Count  Dtype  \n",
      "---  ------         --------------  -----  \n",
      " 0   HALTER_ID      7154 non-null   int64  \n",
      " 1   Age            7154 non-null   object \n",
      " 2   Gender         7154 non-null   object \n",
      " 3   District       7154 non-null   float64\n",
      " 4   City Quarter   7154 non-null   float64\n",
      " 5   Breed1         7154 non-null   object \n",
      " 6   Mixed Breed    7154 non-null   float64\n",
      " 7   Breed2         7154 non-null   object \n",
      " 8   Breed Type     7154 non-null   object \n",
      " 9   BirthYear_Dog  7154 non-null   int64  \n",
      " 10  Gender_Dog     7154 non-null   object \n",
      " 11  Color_Dog      7154 non-null   object \n",
      "dtypes: float64(3), int64(2), object(7)\n",
      "memory usage: 726.6+ KB\n"
     ]
    }
   ],
   "source": [
    "dogs17.info()"
   ]
  },
  {
   "cell_type": "code",
   "execution_count": 14,
   "id": "1bdefc0e",
   "metadata": {},
   "outputs": [
    {
     "data": {
      "text/plain": [
       "array(['61-70', '41-50', '51-60', '71-80', '81-90', '31-40', '91-100',\n",
       "       '21-30', '11-20'], dtype=object)"
      ]
     },
     "execution_count": 14,
     "metadata": {},
     "output_type": "execute_result"
    }
   ],
   "source": [
    "dogs17['Age'].unique()"
   ]
  },
  {
   "cell_type": "code",
   "execution_count": 15,
   "id": "cbc28901",
   "metadata": {},
   "outputs": [
    {
     "data": {
      "text/plain": [
       "array([ 9.,  3.,  2.,  6.,  7., 10., 11.,  8.,  5.,  4., 12.,  1.])"
      ]
     },
     "execution_count": 15,
     "metadata": {},
     "output_type": "execute_result"
    }
   ],
   "source": [
    "dogs17['District'].unique()"
   ]
  },
  {
   "cell_type": "markdown",
   "id": "720b3491",
   "metadata": {},
   "source": [
    "# How old were dog owners in Zurich in 2017?"
   ]
  },
  {
   "cell_type": "code",
   "execution_count": 16,
   "id": "025d505d",
   "metadata": {},
   "outputs": [
    {
     "data": {
      "image/png": "[encoded data removed]",
      "text/plain": [
       "<Figure size 432x288 with 1 Axes>"
      ]
     },
     "metadata": {
      "needs_background": "light"
     },
     "output_type": "display_data"
    }
   ],
   "source": [
    "sns.countplot(x = 'Age', order=['11-20', '21-30', '31-40', '41-50', '51-60', '61-70', '71-80', '81-90', '91-100'], data = dogs17)\n",
    "plt.show()"
   ]
  },
  {
   "cell_type": "markdown",
   "id": "f10b88e5",
   "metadata": {},
   "source": [
    "# How does dog age and owner age compare?"
   ]
  },
  {
   "cell_type": "code",
   "execution_count": 17,
   "id": "873c38ff",
   "metadata": {},
   "outputs": [],
   "source": [
    "dogs17['Dog Age']=2017 - dogs17.BirthYear_Dog"
   ]
  },
  {
   "cell_type": "code",
   "execution_count": 18,
   "id": "e32c282c",
   "metadata": {},
   "outputs": [
    {
     "data": {
      "image/png": "[encoded data removed]",
      "text/plain": [
       "<Figure size 432x288 with 1 Axes>"
      ]
     },
     "metadata": {
      "needs_background": "light"
     },
     "output_type": "display_data"
    }
   ],
   "source": [
    "sns.barplot(x = 'Age', y = 'Dog Age', order=['11-20', '21-30', '31-40', '41-50', '51-60', '61-70', '71-80', '81-90', '91-100'], data=dogs17)\n",
    "plt.show()"
   ]
  },
  {
   "cell_type": "markdown",
   "id": "49640bdc",
   "metadata": {},
   "source": [
    "# What is the most dog friendly district in Zurich in 2017?"
   ]
  },
  {
   "cell_type": "code",
   "execution_count": 19,
   "id": "7c9c2906",
   "metadata": {},
   "outputs": [
    {
     "data": {
      "image/png": "[encoded data removed]",
      "text/plain": [
       "<Figure size 432x288 with 1 Axes>"
      ]
     },
     "metadata": {
      "needs_background": "light"
     },
     "output_type": "display_data"
    }
   ],
   "source": [
    "sns.countplot(x = 'District', color='c', data=dogs17)\n",
    "plt.show()"
   ]
  },
  {
   "cell_type": "markdown",
   "id": "704488c7",
   "metadata": {},
   "source": [
    "Insights: Most dog owners in Zurich are middle aged, between 31 and 60.\n",
    "Most dogs in Zurich (in dog years) are older between 91-100 years.\n",
    "District 11 is the most dog friendly in Zurich!"
   ]
  },
  {
   "cell_type": "code",
   "execution_count": null,
   "id": "36836ef3",
   "metadata": {},
   "outputs": [],
   "source": []
  }
 ],
 "metadata": {
  "kernelspec": {
   "display_name": "Python 3 (ipykernel)",
   "language": "python",
   "name": "python3"
  },
  "language_info": {
   "codemirror_mode": {
    "name": "ipython",
    "version": 3
   },
   "file_extension": ".py",
   "mimetype": "text/x-python",
   "name": "python",
   "nbconvert_exporter": "python",
   "pygments_lexer": "ipython3",
   "version": "3.9.7"
  }
 },
 "nbformat": 4,
 "nbformat_minor": 5
}
