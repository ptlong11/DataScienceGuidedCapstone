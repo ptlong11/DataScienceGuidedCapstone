{
 "cells": [
  {
   "cell_type": "code",
   "execution_count": 1,
   "id": "82aeced4",
   "metadata": {},
   "outputs": [],
   "source": [
    "import numpy as np\n",
    "import pandas as pd\n",
    "import matplotlib.pyplot as plt\n",
    "import seaborn as sns\n",
    "%matplotlib inline\n",
    "import sys\n",
    "import os\n",
    "import warnings\n",
    "warnings.filterwarnings('ignore')"
   ]
  },
  {
   "cell_type": "code",
   "execution_count": 2,
   "id": "f6f109af",
   "metadata": {},
   "outputs": [],
   "source": [
    "df = pd.read_excel(r\"C:\\Users\\ptlon\\OneDrive\\Desktop\\output - Copy.xlsx\")  \n"
   ]
  },
  {
   "cell_type": "code",
   "execution_count": 3,
   "id": "64cb01dc",
   "metadata": {},
   "outputs": [
    {
     "data": {
      "text/plain": [
       "(291, 9)"
      ]
     },
     "execution_count": 3,
     "metadata": {},
     "output_type": "execute_result"
    }
   ],
   "source": [
    "df.shape"
   ]
  },
  {
   "cell_type": "code",
   "execution_count": 4,
   "id": "69de4342",
   "metadata": {},
   "outputs": [
    {
     "data": {
      "text/html": [
       "<div>\n",
       "<style scoped>\n",
       "    .dataframe tbody tr th:only-of-type {\n",
       "        vertical-align: middle;\n",
       "    }\n",
       "\n",
       "    .dataframe tbody tr th {\n",
       "        vertical-align: top;\n",
       "    }\n",
       "\n",
       "    .dataframe thead th {\n",
       "        text-align: right;\n",
       "    }\n",
       "</style>\n",
       "<table border=\"1\" class=\"dataframe\">\n",
       "  <thead>\n",
       "    <tr style=\"text-align: right;\">\n",
       "      <th></th>\n",
       "      <th>Amount (In USD)</th>\n",
       "      <th>Startup Name</th>\n",
       "      <th>Industry</th>\n",
       "      <th>Sub-Vertical</th>\n",
       "      <th>State</th>\n",
       "      <th>Investors’ Name</th>\n",
       "      <th>Investment Type</th>\n",
       "      <th>2017</th>\n",
       "      <th>Rank</th>\n",
       "    </tr>\n",
       "  </thead>\n",
       "  <tbody>\n",
       "    <tr>\n",
       "      <th>0</th>\n",
       "      <td>22500</td>\n",
       "      <td>Cloudrino</td>\n",
       "      <td>Technology</td>\n",
       "      <td>Cloud based Virtual Servers</td>\n",
       "      <td>Delhi</td>\n",
       "      <td>The Ten Minute Million</td>\n",
       "      <td>Seed Funding</td>\n",
       "      <td>5533</td>\n",
       "      <td>2</td>\n",
       "    </tr>\n",
       "    <tr>\n",
       "      <th>1</th>\n",
       "      <td>25000</td>\n",
       "      <td>Newspatrolling</td>\n",
       "      <td>Consumer Internet</td>\n",
       "      <td>Online News portal</td>\n",
       "      <td>Delhi</td>\n",
       "      <td>Undisclosed</td>\n",
       "      <td>Seed Funding</td>\n",
       "      <td>5533</td>\n",
       "      <td>2</td>\n",
       "    </tr>\n",
       "    <tr>\n",
       "      <th>2</th>\n",
       "      <td>30000</td>\n",
       "      <td>Book Servicing</td>\n",
       "      <td>Consumer Internet</td>\n",
       "      <td>Online Vehicle Services Booking platform</td>\n",
       "      <td>Delhi</td>\n",
       "      <td>National Science and Technology Entrepreneursh...</td>\n",
       "      <td>Seed Funding</td>\n",
       "      <td>5533</td>\n",
       "      <td>2</td>\n",
       "    </tr>\n",
       "  </tbody>\n",
       "</table>\n",
       "</div>"
      ],
      "text/plain": [
       "   Amount (In USD)    Startup Name           Industry  \\\n",
       "0            22500       Cloudrino         Technology   \n",
       "1            25000  Newspatrolling  Consumer Internet   \n",
       "2            30000  Book Servicing  Consumer Internet   \n",
       "\n",
       "                               Sub-Vertical  State  \\\n",
       "0               Cloud based Virtual Servers  Delhi   \n",
       "1                        Online News portal  Delhi   \n",
       "2  Online Vehicle Services Booking platform  Delhi   \n",
       "\n",
       "                                     Investors’ Name Investment Type  2017  \\\n",
       "0                             The Ten Minute Million    Seed Funding  5533   \n",
       "1                                        Undisclosed    Seed Funding  5533   \n",
       "2  National Science and Technology Entrepreneursh...    Seed Funding  5533   \n",
       "\n",
       "   Rank  \n",
       "0     2  \n",
       "1     2  \n",
       "2     2  "
      ]
     },
     "execution_count": 4,
     "metadata": {},
     "output_type": "execute_result"
    }
   ],
   "source": [
    "df.head(3)"
   ]
  },
  {
   "cell_type": "code",
   "execution_count": 5,
   "id": "d04ba3ae",
   "metadata": {},
   "outputs": [
    {
     "data": {
      "text/html": [
       "<div>\n",
       "<style scoped>\n",
       "    .dataframe tbody tr th:only-of-type {\n",
       "        vertical-align: middle;\n",
       "    }\n",
       "\n",
       "    .dataframe tbody tr th {\n",
       "        vertical-align: top;\n",
       "    }\n",
       "\n",
       "    .dataframe thead th {\n",
       "        text-align: right;\n",
       "    }\n",
       "</style>\n",
       "<table border=\"1\" class=\"dataframe\">\n",
       "  <thead>\n",
       "    <tr style=\"text-align: right;\">\n",
       "      <th></th>\n",
       "      <th>Amount (In USD)</th>\n",
       "      <th>Startup Name</th>\n",
       "      <th>Industry</th>\n",
       "      <th>Sub-Vertical</th>\n",
       "      <th>State</th>\n",
       "      <th>Investors’ Name</th>\n",
       "      <th>Investment Type</th>\n",
       "      <th>2017</th>\n",
       "      <th>Rank</th>\n",
       "    </tr>\n",
       "  </thead>\n",
       "  <tbody>\n",
       "    <tr>\n",
       "      <th>288</th>\n",
       "      <td>1350000</td>\n",
       "      <td>MobieFit</td>\n",
       "      <td>Healthcare</td>\n",
       "      <td>Health and fitness based mobile App</td>\n",
       "      <td>Goa</td>\n",
       "      <td>NB Ventures MediAssist</td>\n",
       "      <td>Seed/Angel Funding</td>\n",
       "      <td>7045</td>\n",
       "      <td>1</td>\n",
       "    </tr>\n",
       "    <tr>\n",
       "      <th>289</th>\n",
       "      <td>15500000</td>\n",
       "      <td>OkCredit</td>\n",
       "      <td>FinTech</td>\n",
       "      <td>Financial Services</td>\n",
       "      <td>Haryana</td>\n",
       "      <td>Tiger Global Management</td>\n",
       "      <td>Series A</td>\n",
       "      <td>3433</td>\n",
       "      <td>5</td>\n",
       "    </tr>\n",
       "    <tr>\n",
       "      <th>290</th>\n",
       "      <td>3584000</td>\n",
       "      <td>Vogo Automotive Pvt. Ltd.</td>\n",
       "      <td>Transportation</td>\n",
       "      <td>Dockless Scooter Rental Company</td>\n",
       "      <td>Karnataka</td>\n",
       "      <td>Alteria Capital</td>\n",
       "      <td>Debt Funding</td>\n",
       "      <td>3139</td>\n",
       "      <td>7</td>\n",
       "    </tr>\n",
       "  </tbody>\n",
       "</table>\n",
       "</div>"
      ],
      "text/plain": [
       "     Amount (In USD)               Startup Name        Industry  \\\n",
       "288          1350000                   MobieFit      Healthcare   \n",
       "289         15500000                   OkCredit         FinTech   \n",
       "290          3584000  Vogo Automotive Pvt. Ltd.  Transportation   \n",
       "\n",
       "                            Sub-Vertical      State          Investors’ Name  \\\n",
       "288  Health and fitness based mobile App        Goa   NB Ventures MediAssist   \n",
       "289                   Financial Services    Haryana  Tiger Global Management   \n",
       "290      Dockless Scooter Rental Company  Karnataka          Alteria Capital   \n",
       "\n",
       "        Investment Type  2017  Rank  \n",
       "288  Seed/Angel Funding  7045     1  \n",
       "289            Series A  3433     5  \n",
       "290        Debt Funding  3139     7  "
      ]
     },
     "execution_count": 5,
     "metadata": {},
     "output_type": "execute_result"
    }
   ],
   "source": [
    "df.tail(3)"
   ]
  },
  {
   "cell_type": "code",
   "execution_count": 6,
   "id": "6e1d5166",
   "metadata": {},
   "outputs": [
    {
     "data": {
      "text/plain": [
       "Amount (In USD)    0\n",
       "Startup Name       0\n",
       "Industry           0\n",
       "Sub-Vertical       0\n",
       "State              0\n",
       "Investors’ Name    4\n",
       "Investment Type    0\n",
       "2017               0\n",
       "Rank               0\n",
       "dtype: int64"
      ]
     },
     "execution_count": 6,
     "metadata": {},
     "output_type": "execute_result"
    }
   ],
   "source": [
    "df.isnull().sum()\n"
   ]
  },
  {
   "cell_type": "code",
   "execution_count": 7,
   "id": "eb69893d",
   "metadata": {},
   "outputs": [
    {
     "data": {
      "text/html": [
       "<div>\n",
       "<style scoped>\n",
       "    .dataframe tbody tr th:only-of-type {\n",
       "        vertical-align: middle;\n",
       "    }\n",
       "\n",
       "    .dataframe tbody tr th {\n",
       "        vertical-align: top;\n",
       "    }\n",
       "\n",
       "    .dataframe thead th {\n",
       "        text-align: right;\n",
       "    }\n",
       "</style>\n",
       "<table border=\"1\" class=\"dataframe\">\n",
       "  <thead>\n",
       "    <tr style=\"text-align: right;\">\n",
       "      <th></th>\n",
       "      <th>Amount (In USD)</th>\n",
       "      <th>Startup Name</th>\n",
       "      <th>Industry</th>\n",
       "      <th>Sub-Vertical</th>\n",
       "      <th>State</th>\n",
       "      <th>Investors’ Name</th>\n",
       "      <th>Investment Type</th>\n",
       "      <th>2017</th>\n",
       "      <th>Rank</th>\n",
       "    </tr>\n",
       "  </thead>\n",
       "  <tbody>\n",
       "    <tr>\n",
       "      <th>0</th>\n",
       "      <td>22500</td>\n",
       "      <td>Cloudrino</td>\n",
       "      <td>Technology</td>\n",
       "      <td>Cloud based Virtual Servers</td>\n",
       "      <td>Delhi</td>\n",
       "      <td>The Ten Minute Million</td>\n",
       "      <td>Seed Funding</td>\n",
       "      <td>5533</td>\n",
       "      <td>2</td>\n",
       "    </tr>\n",
       "    <tr>\n",
       "      <th>1</th>\n",
       "      <td>25000</td>\n",
       "      <td>Newspatrolling</td>\n",
       "      <td>Consumer Internet</td>\n",
       "      <td>Online News portal</td>\n",
       "      <td>Delhi</td>\n",
       "      <td>Undisclosed</td>\n",
       "      <td>Seed Funding</td>\n",
       "      <td>5533</td>\n",
       "      <td>2</td>\n",
       "    </tr>\n",
       "    <tr>\n",
       "      <th>2</th>\n",
       "      <td>30000</td>\n",
       "      <td>Book Servicing</td>\n",
       "      <td>Consumer Internet</td>\n",
       "      <td>Online Vehicle Services Booking platform</td>\n",
       "      <td>Delhi</td>\n",
       "      <td>National Science and Technology Entrepreneursh...</td>\n",
       "      <td>Seed Funding</td>\n",
       "      <td>5533</td>\n",
       "      <td>2</td>\n",
       "    </tr>\n",
       "    <tr>\n",
       "      <th>3</th>\n",
       "      <td>30000</td>\n",
       "      <td>goSporto</td>\n",
       "      <td>Consumer Internet</td>\n",
       "      <td>Online Sports discovery and booking platform</td>\n",
       "      <td>Delhi</td>\n",
       "      <td>Naveen Gupta</td>\n",
       "      <td>Seed Funding</td>\n",
       "      <td>5533</td>\n",
       "      <td>2</td>\n",
       "    </tr>\n",
       "    <tr>\n",
       "      <th>4</th>\n",
       "      <td>30000</td>\n",
       "      <td>Perfumery</td>\n",
       "      <td>ECommerce</td>\n",
       "      <td>Fragrances &amp; Perfume eTailer</td>\n",
       "      <td>Delhi</td>\n",
       "      <td>Oranda Global &amp; Others</td>\n",
       "      <td>Seed Funding</td>\n",
       "      <td>5533</td>\n",
       "      <td>2</td>\n",
       "    </tr>\n",
       "    <tr>\n",
       "      <th>...</th>\n",
       "      <td>...</td>\n",
       "      <td>...</td>\n",
       "      <td>...</td>\n",
       "      <td>...</td>\n",
       "      <td>...</td>\n",
       "      <td>...</td>\n",
       "      <td>...</td>\n",
       "      <td>...</td>\n",
       "      <td>...</td>\n",
       "    </tr>\n",
       "    <tr>\n",
       "      <th>286</th>\n",
       "      <td>1000000</td>\n",
       "      <td>HandyTrain</td>\n",
       "      <td>Technology</td>\n",
       "      <td>Mobile Learning Management Platform</td>\n",
       "      <td>Goa</td>\n",
       "      <td>NB Ventures</td>\n",
       "      <td>Private Equity</td>\n",
       "      <td>7045</td>\n",
       "      <td>1</td>\n",
       "    </tr>\n",
       "    <tr>\n",
       "      <th>287</th>\n",
       "      <td>1000000</td>\n",
       "      <td>HandyTrain</td>\n",
       "      <td>Consumer Internet</td>\n",
       "      <td>Mobile App for SAAS based Training</td>\n",
       "      <td>Goa</td>\n",
       "      <td>Silver Range Investments Lumina Datamatics Shu...</td>\n",
       "      <td>Private Equity</td>\n",
       "      <td>7045</td>\n",
       "      <td>1</td>\n",
       "    </tr>\n",
       "    <tr>\n",
       "      <th>288</th>\n",
       "      <td>1350000</td>\n",
       "      <td>MobieFit</td>\n",
       "      <td>Healthcare</td>\n",
       "      <td>Health and fitness based mobile App</td>\n",
       "      <td>Goa</td>\n",
       "      <td>NB Ventures MediAssist</td>\n",
       "      <td>Seed/Angel Funding</td>\n",
       "      <td>7045</td>\n",
       "      <td>1</td>\n",
       "    </tr>\n",
       "    <tr>\n",
       "      <th>289</th>\n",
       "      <td>15500000</td>\n",
       "      <td>OkCredit</td>\n",
       "      <td>FinTech</td>\n",
       "      <td>Financial Services</td>\n",
       "      <td>Haryana</td>\n",
       "      <td>Tiger Global Management</td>\n",
       "      <td>Series A</td>\n",
       "      <td>3433</td>\n",
       "      <td>5</td>\n",
       "    </tr>\n",
       "    <tr>\n",
       "      <th>290</th>\n",
       "      <td>3584000</td>\n",
       "      <td>Vogo Automotive Pvt. Ltd.</td>\n",
       "      <td>Transportation</td>\n",
       "      <td>Dockless Scooter Rental Company</td>\n",
       "      <td>Karnataka</td>\n",
       "      <td>Alteria Capital</td>\n",
       "      <td>Debt Funding</td>\n",
       "      <td>3139</td>\n",
       "      <td>7</td>\n",
       "    </tr>\n",
       "  </tbody>\n",
       "</table>\n",
       "<p>287 rows × 9 columns</p>\n",
       "</div>"
      ],
      "text/plain": [
       "     Amount (In USD)               Startup Name           Industry  \\\n",
       "0              22500                  Cloudrino         Technology   \n",
       "1              25000             Newspatrolling  Consumer Internet   \n",
       "2              30000             Book Servicing  Consumer Internet   \n",
       "3              30000                   goSporto  Consumer Internet   \n",
       "4              30000                  Perfumery          ECommerce   \n",
       "..               ...                        ...                ...   \n",
       "286          1000000                 HandyTrain         Technology   \n",
       "287          1000000                 HandyTrain  Consumer Internet   \n",
       "288          1350000                   MobieFit         Healthcare   \n",
       "289         15500000                   OkCredit            FinTech   \n",
       "290          3584000  Vogo Automotive Pvt. Ltd.     Transportation   \n",
       "\n",
       "                                     Sub-Vertical      State  \\\n",
       "0                     Cloud based Virtual Servers      Delhi   \n",
       "1                              Online News portal      Delhi   \n",
       "2        Online Vehicle Services Booking platform      Delhi   \n",
       "3    Online Sports discovery and booking platform      Delhi   \n",
       "4                    Fragrances & Perfume eTailer      Delhi   \n",
       "..                                            ...        ...   \n",
       "286           Mobile Learning Management Platform        Goa   \n",
       "287            Mobile App for SAAS based Training        Goa   \n",
       "288           Health and fitness based mobile App        Goa   \n",
       "289                            Financial Services    Haryana   \n",
       "290               Dockless Scooter Rental Company  Karnataka   \n",
       "\n",
       "                                       Investors’ Name     Investment Type  \\\n",
       "0                               The Ten Minute Million        Seed Funding   \n",
       "1                                          Undisclosed        Seed Funding   \n",
       "2    National Science and Technology Entrepreneursh...        Seed Funding   \n",
       "3                                         Naveen Gupta        Seed Funding   \n",
       "4                               Oranda Global & Others        Seed Funding   \n",
       "..                                                 ...                 ...   \n",
       "286                                        NB Ventures      Private Equity   \n",
       "287  Silver Range Investments Lumina Datamatics Shu...      Private Equity   \n",
       "288                             NB Ventures MediAssist  Seed/Angel Funding   \n",
       "289                            Tiger Global Management            Series A   \n",
       "290                                    Alteria Capital        Debt Funding   \n",
       "\n",
       "     2017  Rank  \n",
       "0    5533     2  \n",
       "1    5533     2  \n",
       "2    5533     2  \n",
       "3    5533     2  \n",
       "4    5533     2  \n",
       "..    ...   ...  \n",
       "286  7045     1  \n",
       "287  7045     1  \n",
       "288  7045     1  \n",
       "289  3433     5  \n",
       "290  3139     7  \n",
       "\n",
       "[287 rows x 9 columns]"
      ]
     },
     "execution_count": 7,
     "metadata": {},
     "output_type": "execute_result"
    }
   ],
   "source": [
    "df.dropna()"
   ]
  },
  {
   "cell_type": "code",
   "execution_count": 8,
   "id": "defd41f9",
   "metadata": {},
   "outputs": [
    {
     "data": {
      "text/plain": [
       "Amount (In USD)    0\n",
       "Startup Name       0\n",
       "Industry           0\n",
       "Sub-Vertical       0\n",
       "State              0\n",
       "Investors’ Name    4\n",
       "Investment Type    0\n",
       "2017               0\n",
       "Rank               0\n",
       "dtype: int64"
      ]
     },
     "execution_count": 8,
     "metadata": {},
     "output_type": "execute_result"
    }
   ],
   "source": [
    "df.isnull().sum()"
   ]
  },
  {
   "cell_type": "code",
   "execution_count": 9,
   "id": "9967f43e",
   "metadata": {},
   "outputs": [
    {
     "data": {
      "text/plain": [
       "Index(['Amount (In USD)', 'Startup Name', 'Industry', 'Sub-Vertical', 'State',\n",
       "       'Investors’ Name', 'Investment Type', '2017', 'Rank'],\n",
       "      dtype='object')"
      ]
     },
     "execution_count": 9,
     "metadata": {},
     "output_type": "execute_result"
    }
   ],
   "source": [
    "df.columns"
   ]
  },
  {
   "cell_type": "code",
   "execution_count": 10,
   "id": "c21fc1e9",
   "metadata": {},
   "outputs": [
    {
     "data": {
      "text/plain": [
       "(290, 9)"
      ]
     },
     "execution_count": 10,
     "metadata": {},
     "output_type": "execute_result"
    }
   ],
   "source": [
    "df.drop_duplicates(inplace = True)\n",
    "df.shape"
   ]
  },
  {
   "cell_type": "code",
   "execution_count": 11,
   "id": "04825755",
   "metadata": {},
   "outputs": [
    {
     "data": {
      "text/html": [
       "<div>\n",
       "<style scoped>\n",
       "    .dataframe tbody tr th:only-of-type {\n",
       "        vertical-align: middle;\n",
       "    }\n",
       "\n",
       "    .dataframe tbody tr th {\n",
       "        vertical-align: top;\n",
       "    }\n",
       "\n",
       "    .dataframe thead th {\n",
       "        text-align: right;\n",
       "    }\n",
       "</style>\n",
       "<table border=\"1\" class=\"dataframe\">\n",
       "  <thead>\n",
       "    <tr style=\"text-align: right;\">\n",
       "      <th></th>\n",
       "      <th>Amount (In USD)</th>\n",
       "      <th>Startup Name</th>\n",
       "      <th>Industry</th>\n",
       "      <th>Sub-Vertical</th>\n",
       "      <th>State</th>\n",
       "      <th>Investors’ Name</th>\n",
       "      <th>Investment Type</th>\n",
       "      <th>2017</th>\n",
       "      <th>Rank</th>\n",
       "    </tr>\n",
       "  </thead>\n",
       "  <tbody>\n",
       "    <tr>\n",
       "      <th>20</th>\n",
       "      <td>100000</td>\n",
       "      <td>AdUrCup</td>\n",
       "      <td>Consumer Internet</td>\n",
       "      <td>Ad Network</td>\n",
       "      <td>Delhi</td>\n",
       "      <td>Green House Ventures (GHV)</td>\n",
       "      <td>Seed Funding</td>\n",
       "      <td>5533</td>\n",
       "      <td>2</td>\n",
       "    </tr>\n",
       "    <tr>\n",
       "      <th>202</th>\n",
       "      <td>4000000</td>\n",
       "      <td>ScoopWhoop</td>\n",
       "      <td>Viral Content web Platform</td>\n",
       "      <td>Viral Content web Platform</td>\n",
       "      <td>Delhi</td>\n",
       "      <td>Kalaari Capital</td>\n",
       "      <td>Private Equity</td>\n",
       "      <td>5533</td>\n",
       "      <td>2</td>\n",
       "    </tr>\n",
       "    <tr>\n",
       "      <th>54</th>\n",
       "      <td>200000</td>\n",
       "      <td>Neuron</td>\n",
       "      <td>Technology</td>\n",
       "      <td>Machine Learning Platform</td>\n",
       "      <td>Delhi</td>\n",
       "      <td>Harvinder Singh Bhatia TLabs Accelerator</td>\n",
       "      <td>Seed Funding</td>\n",
       "      <td>5533</td>\n",
       "      <td>2</td>\n",
       "    </tr>\n",
       "    <tr>\n",
       "      <th>16</th>\n",
       "      <td>100000</td>\n",
       "      <td>Big Deal</td>\n",
       "      <td>Consumer Internet</td>\n",
       "      <td>Student Deals Discovery Platform</td>\n",
       "      <td>Delhi</td>\n",
       "      <td>EVC Ventures</td>\n",
       "      <td>Seed Funding</td>\n",
       "      <td>5533</td>\n",
       "      <td>2</td>\n",
       "    </tr>\n",
       "    <tr>\n",
       "      <th>242</th>\n",
       "      <td>16000000</td>\n",
       "      <td>Akosha</td>\n",
       "      <td>Business Messaging App</td>\n",
       "      <td>Business Messaging App</td>\n",
       "      <td>Delhi</td>\n",
       "      <td>Sequoia Capital</td>\n",
       "      <td>Private Equity</td>\n",
       "      <td>5533</td>\n",
       "      <td>2</td>\n",
       "    </tr>\n",
       "  </tbody>\n",
       "</table>\n",
       "</div>"
      ],
      "text/plain": [
       "     Amount (In USD) Startup Name                    Industry  \\\n",
       "20            100000      AdUrCup           Consumer Internet   \n",
       "202          4000000   ScoopWhoop  Viral Content web Platform   \n",
       "54            200000       Neuron                  Technology   \n",
       "16            100000     Big Deal           Consumer Internet   \n",
       "242         16000000       Akosha      Business Messaging App   \n",
       "\n",
       "                         Sub-Vertical  State  \\\n",
       "20                         Ad Network  Delhi   \n",
       "202        Viral Content web Platform  Delhi   \n",
       "54          Machine Learning Platform  Delhi   \n",
       "16   Student Deals Discovery Platform  Delhi   \n",
       "242            Business Messaging App  Delhi   \n",
       "\n",
       "                              Investors’ Name Investment Type  2017  Rank  \n",
       "20                 Green House Ventures (GHV)    Seed Funding  5533     2  \n",
       "202                           Kalaari Capital  Private Equity  5533     2  \n",
       "54   Harvinder Singh Bhatia TLabs Accelerator    Seed Funding  5533     2  \n",
       "16                               EVC Ventures    Seed Funding  5533     2  \n",
       "242                           Sequoia Capital  Private Equity  5533     2  "
      ]
     },
     "execution_count": 11,
     "metadata": {},
     "output_type": "execute_result"
    }
   ],
   "source": [
    "df.sample(5)"
   ]
  },
  {
   "cell_type": "code",
   "execution_count": 12,
   "id": "6547c4c6",
   "metadata": {},
   "outputs": [
    {
     "name": "stdout",
     "output_type": "stream",
     "text": [
      "<class 'pandas.core.frame.DataFrame'>\n",
      "Int64Index: 290 entries, 0 to 290\n",
      "Data columns (total 9 columns):\n",
      " #   Column           Non-Null Count  Dtype \n",
      "---  ------           --------------  ----- \n",
      " 0   Amount (In USD)  290 non-null    int64 \n",
      " 1   Startup Name     290 non-null    object\n",
      " 2   Industry         290 non-null    object\n",
      " 3   Sub-Vertical     290 non-null    object\n",
      " 4   State            290 non-null    object\n",
      " 5   Investors’ Name  286 non-null    object\n",
      " 6   Investment Type  290 non-null    object\n",
      " 7   2017             290 non-null    int64 \n",
      " 8   Rank             290 non-null    int64 \n",
      "dtypes: int64(3), object(6)\n",
      "memory usage: 22.7+ KB\n"
     ]
    }
   ],
   "source": [
    "df.info()"
   ]
  },
  {
   "cell_type": "code",
   "execution_count": 13,
   "id": "e79c9992",
   "metadata": {},
   "outputs": [
    {
     "data": {
      "text/html": [
       "<div>\n",
       "<style scoped>\n",
       "    .dataframe tbody tr th:only-of-type {\n",
       "        vertical-align: middle;\n",
       "    }\n",
       "\n",
       "    .dataframe tbody tr th {\n",
       "        vertical-align: top;\n",
       "    }\n",
       "\n",
       "    .dataframe thead th {\n",
       "        text-align: right;\n",
       "    }\n",
       "</style>\n",
       "<table border=\"1\" class=\"dataframe\">\n",
       "  <thead>\n",
       "    <tr style=\"text-align: right;\">\n",
       "      <th></th>\n",
       "      <th>Amount (In USD)</th>\n",
       "      <th>Startup Name</th>\n",
       "      <th>Industry</th>\n",
       "      <th>Sub-Vertical</th>\n",
       "      <th>State</th>\n",
       "      <th>Investors’ Name</th>\n",
       "      <th>2017</th>\n",
       "      <th>Rank</th>\n",
       "    </tr>\n",
       "    <tr>\n",
       "      <th>Investment Type</th>\n",
       "      <th></th>\n",
       "      <th></th>\n",
       "      <th></th>\n",
       "      <th></th>\n",
       "      <th></th>\n",
       "      <th></th>\n",
       "      <th></th>\n",
       "      <th></th>\n",
       "    </tr>\n",
       "  </thead>\n",
       "  <tbody>\n",
       "    <tr>\n",
       "      <th>Seed Funding</th>\n",
       "      <td>22500</td>\n",
       "      <td>Cloudrino</td>\n",
       "      <td>Technology</td>\n",
       "      <td>Cloud based Virtual Servers</td>\n",
       "      <td>Delhi</td>\n",
       "      <td>The Ten Minute Million</td>\n",
       "      <td>5533</td>\n",
       "      <td>2</td>\n",
       "    </tr>\n",
       "    <tr>\n",
       "      <th>Seed Funding</th>\n",
       "      <td>25000</td>\n",
       "      <td>Newspatrolling</td>\n",
       "      <td>Consumer Internet</td>\n",
       "      <td>Online News portal</td>\n",
       "      <td>Delhi</td>\n",
       "      <td>Undisclosed</td>\n",
       "      <td>5533</td>\n",
       "      <td>2</td>\n",
       "    </tr>\n",
       "    <tr>\n",
       "      <th>Seed Funding</th>\n",
       "      <td>30000</td>\n",
       "      <td>Book Servicing</td>\n",
       "      <td>Consumer Internet</td>\n",
       "      <td>Online Vehicle Services Booking platform</td>\n",
       "      <td>Delhi</td>\n",
       "      <td>National Science and Technology Entrepreneursh...</td>\n",
       "      <td>5533</td>\n",
       "      <td>2</td>\n",
       "    </tr>\n",
       "    <tr>\n",
       "      <th>Seed Funding</th>\n",
       "      <td>30000</td>\n",
       "      <td>goSporto</td>\n",
       "      <td>Consumer Internet</td>\n",
       "      <td>Online Sports discovery and booking platform</td>\n",
       "      <td>Delhi</td>\n",
       "      <td>Naveen Gupta</td>\n",
       "      <td>5533</td>\n",
       "      <td>2</td>\n",
       "    </tr>\n",
       "    <tr>\n",
       "      <th>Seed Funding</th>\n",
       "      <td>30000</td>\n",
       "      <td>Perfumery</td>\n",
       "      <td>ECommerce</td>\n",
       "      <td>Fragrances &amp; Perfume eTailer</td>\n",
       "      <td>Delhi</td>\n",
       "      <td>Oranda Global &amp; Others</td>\n",
       "      <td>5533</td>\n",
       "      <td>2</td>\n",
       "    </tr>\n",
       "    <tr>\n",
       "      <th>...</th>\n",
       "      <td>...</td>\n",
       "      <td>...</td>\n",
       "      <td>...</td>\n",
       "      <td>...</td>\n",
       "      <td>...</td>\n",
       "      <td>...</td>\n",
       "      <td>...</td>\n",
       "      <td>...</td>\n",
       "    </tr>\n",
       "    <tr>\n",
       "      <th>Private Equity</th>\n",
       "      <td>1000000</td>\n",
       "      <td>HandyTrain</td>\n",
       "      <td>Technology</td>\n",
       "      <td>Mobile Learning Management Platform</td>\n",
       "      <td>Goa</td>\n",
       "      <td>NB Ventures</td>\n",
       "      <td>7045</td>\n",
       "      <td>1</td>\n",
       "    </tr>\n",
       "    <tr>\n",
       "      <th>Private Equity</th>\n",
       "      <td>1000000</td>\n",
       "      <td>HandyTrain</td>\n",
       "      <td>Consumer Internet</td>\n",
       "      <td>Mobile App for SAAS based Training</td>\n",
       "      <td>Goa</td>\n",
       "      <td>Silver Range Investments Lumina Datamatics Shu...</td>\n",
       "      <td>7045</td>\n",
       "      <td>1</td>\n",
       "    </tr>\n",
       "    <tr>\n",
       "      <th>Seed/Angel Funding</th>\n",
       "      <td>1350000</td>\n",
       "      <td>MobieFit</td>\n",
       "      <td>Healthcare</td>\n",
       "      <td>Health and fitness based mobile App</td>\n",
       "      <td>Goa</td>\n",
       "      <td>NB Ventures MediAssist</td>\n",
       "      <td>7045</td>\n",
       "      <td>1</td>\n",
       "    </tr>\n",
       "    <tr>\n",
       "      <th>Series A</th>\n",
       "      <td>15500000</td>\n",
       "      <td>OkCredit</td>\n",
       "      <td>FinTech</td>\n",
       "      <td>Financial Services</td>\n",
       "      <td>Haryana</td>\n",
       "      <td>Tiger Global Management</td>\n",
       "      <td>3433</td>\n",
       "      <td>5</td>\n",
       "    </tr>\n",
       "    <tr>\n",
       "      <th>Debt Funding</th>\n",
       "      <td>3584000</td>\n",
       "      <td>Vogo Automotive Pvt. Ltd.</td>\n",
       "      <td>Transportation</td>\n",
       "      <td>Dockless Scooter Rental Company</td>\n",
       "      <td>Karnataka</td>\n",
       "      <td>Alteria Capital</td>\n",
       "      <td>3139</td>\n",
       "      <td>7</td>\n",
       "    </tr>\n",
       "  </tbody>\n",
       "</table>\n",
       "<p>290 rows × 8 columns</p>\n",
       "</div>"
      ],
      "text/plain": [
       "                    Amount (In USD)               Startup Name  \\\n",
       "Investment Type                                                  \n",
       "Seed Funding                  22500                  Cloudrino   \n",
       "Seed Funding                  25000             Newspatrolling   \n",
       "Seed Funding                  30000             Book Servicing   \n",
       "Seed Funding                  30000                   goSporto   \n",
       "Seed Funding                  30000                  Perfumery   \n",
       "...                             ...                        ...   \n",
       "Private Equity              1000000                 HandyTrain   \n",
       "Private Equity              1000000                 HandyTrain   \n",
       "Seed/Angel Funding          1350000                   MobieFit   \n",
       "Series A                   15500000                   OkCredit   \n",
       "Debt Funding                3584000  Vogo Automotive Pvt. Ltd.   \n",
       "\n",
       "                             Industry  \\\n",
       "Investment Type                         \n",
       "Seed Funding               Technology   \n",
       "Seed Funding        Consumer Internet   \n",
       "Seed Funding        Consumer Internet   \n",
       "Seed Funding        Consumer Internet   \n",
       "Seed Funding                ECommerce   \n",
       "...                               ...   \n",
       "Private Equity             Technology   \n",
       "Private Equity      Consumer Internet   \n",
       "Seed/Angel Funding         Healthcare   \n",
       "Series A                      FinTech   \n",
       "Debt Funding           Transportation   \n",
       "\n",
       "                                                    Sub-Vertical      State  \\\n",
       "Investment Type                                                               \n",
       "Seed Funding                         Cloud based Virtual Servers      Delhi   \n",
       "Seed Funding                                  Online News portal      Delhi   \n",
       "Seed Funding            Online Vehicle Services Booking platform      Delhi   \n",
       "Seed Funding        Online Sports discovery and booking platform      Delhi   \n",
       "Seed Funding                        Fragrances & Perfume eTailer      Delhi   \n",
       "...                                                          ...        ...   \n",
       "Private Equity               Mobile Learning Management Platform        Goa   \n",
       "Private Equity                Mobile App for SAAS based Training        Goa   \n",
       "Seed/Angel Funding           Health and fitness based mobile App        Goa   \n",
       "Series A                                      Financial Services    Haryana   \n",
       "Debt Funding                     Dockless Scooter Rental Company  Karnataka   \n",
       "\n",
       "                                                      Investors’ Name  2017  \\\n",
       "Investment Type                                                               \n",
       "Seed Funding                                   The Ten Minute Million  5533   \n",
       "Seed Funding                                              Undisclosed  5533   \n",
       "Seed Funding        National Science and Technology Entrepreneursh...  5533   \n",
       "Seed Funding                                             Naveen Gupta  5533   \n",
       "Seed Funding                                   Oranda Global & Others  5533   \n",
       "...                                                               ...   ...   \n",
       "Private Equity                                            NB Ventures  7045   \n",
       "Private Equity      Silver Range Investments Lumina Datamatics Shu...  7045   \n",
       "Seed/Angel Funding                             NB Ventures MediAssist  7045   \n",
       "Series A                                      Tiger Global Management  3433   \n",
       "Debt Funding                                          Alteria Capital  3139   \n",
       "\n",
       "                    Rank  \n",
       "Investment Type           \n",
       "Seed Funding           2  \n",
       "Seed Funding           2  \n",
       "Seed Funding           2  \n",
       "Seed Funding           2  \n",
       "Seed Funding           2  \n",
       "...                  ...  \n",
       "Private Equity         1  \n",
       "Private Equity         1  \n",
       "Seed/Angel Funding     1  \n",
       "Series A               5  \n",
       "Debt Funding           7  \n",
       "\n",
       "[290 rows x 8 columns]"
      ]
     },
     "execution_count": 13,
     "metadata": {},
     "output_type": "execute_result"
    }
   ],
   "source": [
    "df.set_index('Investment Type')"
   ]
  },
  {
   "cell_type": "code",
   "execution_count": 14,
   "id": "10f5a0a5",
   "metadata": {},
   "outputs": [
    {
     "data": {
      "text/plain": [
       "count    2.900000e+02\n",
       "mean     1.173616e+07\n",
       "std      5.485487e+07\n",
       "min      2.250000e+04\n",
       "25%      2.500000e+05\n",
       "50%      1.000000e+06\n",
       "75%      4.850000e+06\n",
       "max      6.800000e+08\n",
       "Name: Amount (In USD), dtype: float64"
      ]
     },
     "execution_count": 14,
     "metadata": {},
     "output_type": "execute_result"
    }
   ],
   "source": [
    "### exploring target\n",
    "df['Amount (In USD)'].describe()"
   ]
  },
  {
   "cell_type": "code",
   "execution_count": 15,
   "id": "40def43f",
   "metadata": {},
   "outputs": [
    {
     "data": {
      "text/plain": [
       "array([    22500,     25000,     30000,     37000,     40000,     45000,\n",
       "           46140,     50000,     70000,     77000,     80000,     89000,\n",
       "          100000,    104000,    110000,    120000,    123000,    133000,\n",
       "          141000,    145000,    147000,    148000,    150000,    155000,\n",
       "          156000,    180000,    187000,    200000,    205000,    220000,\n",
       "          240000,    246000,    250000,    293000,    295000,    300000,\n",
       "          324000,    330000,    336000,    350000,    375000,    376000,\n",
       "          441000,    443000,    445000,    450000,    455000,    475000,\n",
       "          500000,    570000,    600000,    620000,    650000,    700000,\n",
       "          740000,    750000,    772500,    872000,   1000000,   1100000,\n",
       "         1300000,   1400000,   1500000,   1600000,   1700000,   1750000,\n",
       "         1800000,   2000000,   2200000,   2250000,   2300000,   2400000,\n",
       "         2700000,   3000000,   3100000,   3500000,   3591375,   3600000,\n",
       "         4000000,   4400000,   5000000,   6000000,   6900000,   7700000,\n",
       "         8000000,   8600000,   9000000,   9200000,  10000000,  10200000,\n",
       "        11100000,  12000000,  13500000,  14900000,  15000000,  16000000,\n",
       "        18840000,  20000000,  21500000,  25000000,  26000000,  27000000,\n",
       "        30000000,  45000000,  50000000,  60000000,  62000000, 100000000,\n",
       "       137000000, 175000000, 200000000, 220000000, 500000000, 680000000,\n",
       "          535000,   5500000,   5600000,  75000000,     27000,  21000000,\n",
       "         1350000,  15500000,   3584000], dtype=int64)"
      ]
     },
     "execution_count": 15,
     "metadata": {},
     "output_type": "execute_result"
    }
   ],
   "source": [
    "#making it easier to analyze\n",
    "df['Amount (In USD)'].unique()"
   ]
  },
  {
   "cell_type": "code",
   "execution_count": 16,
   "id": "855b4e76",
   "metadata": {},
   "outputs": [
    {
     "data": {
      "text/html": [
       "<div>\n",
       "<style scoped>\n",
       "    .dataframe tbody tr th:only-of-type {\n",
       "        vertical-align: middle;\n",
       "    }\n",
       "\n",
       "    .dataframe tbody tr th {\n",
       "        vertical-align: top;\n",
       "    }\n",
       "\n",
       "    .dataframe thead th {\n",
       "        text-align: right;\n",
       "    }\n",
       "</style>\n",
       "<table border=\"1\" class=\"dataframe\">\n",
       "  <thead>\n",
       "    <tr style=\"text-align: right;\">\n",
       "      <th></th>\n",
       "      <th>Amount (In USD)</th>\n",
       "      <th>Startup Name</th>\n",
       "      <th>Industry</th>\n",
       "      <th>Sub-Vertical</th>\n",
       "      <th>State</th>\n",
       "      <th>Investors’ Name</th>\n",
       "      <th>Investment Type</th>\n",
       "      <th>2017</th>\n",
       "      <th>Rank</th>\n",
       "    </tr>\n",
       "  </thead>\n",
       "  <tbody>\n",
       "    <tr>\n",
       "      <th>0</th>\n",
       "      <td>22500</td>\n",
       "      <td>Cloudrino</td>\n",
       "      <td>Technology</td>\n",
       "      <td>Cloud based Virtual Servers</td>\n",
       "      <td>Delhi</td>\n",
       "      <td>The Ten Minute Million</td>\n",
       "      <td>Seed Funding</td>\n",
       "      <td>5533</td>\n",
       "      <td>2</td>\n",
       "    </tr>\n",
       "    <tr>\n",
       "      <th>1</th>\n",
       "      <td>25000</td>\n",
       "      <td>Newspatrolling</td>\n",
       "      <td>Consumer Internet</td>\n",
       "      <td>Online News portal</td>\n",
       "      <td>Delhi</td>\n",
       "      <td>Undisclosed</td>\n",
       "      <td>Seed Funding</td>\n",
       "      <td>5533</td>\n",
       "      <td>2</td>\n",
       "    </tr>\n",
       "    <tr>\n",
       "      <th>2</th>\n",
       "      <td>30000</td>\n",
       "      <td>Book Servicing</td>\n",
       "      <td>Consumer Internet</td>\n",
       "      <td>Online Vehicle Services Booking platform</td>\n",
       "      <td>Delhi</td>\n",
       "      <td>National Science and Technology Entrepreneursh...</td>\n",
       "      <td>Seed Funding</td>\n",
       "      <td>5533</td>\n",
       "      <td>2</td>\n",
       "    </tr>\n",
       "    <tr>\n",
       "      <th>3</th>\n",
       "      <td>30000</td>\n",
       "      <td>goSporto</td>\n",
       "      <td>Consumer Internet</td>\n",
       "      <td>Online Sports discovery and booking platform</td>\n",
       "      <td>Delhi</td>\n",
       "      <td>Naveen Gupta</td>\n",
       "      <td>Seed Funding</td>\n",
       "      <td>5533</td>\n",
       "      <td>2</td>\n",
       "    </tr>\n",
       "    <tr>\n",
       "      <th>4</th>\n",
       "      <td>30000</td>\n",
       "      <td>Perfumery</td>\n",
       "      <td>ECommerce</td>\n",
       "      <td>Fragrances &amp; Perfume eTailer</td>\n",
       "      <td>Delhi</td>\n",
       "      <td>Oranda Global &amp; Others</td>\n",
       "      <td>Seed Funding</td>\n",
       "      <td>5533</td>\n",
       "      <td>2</td>\n",
       "    </tr>\n",
       "  </tbody>\n",
       "</table>\n",
       "</div>"
      ],
      "text/plain": [
       "   Amount (In USD)    Startup Name           Industry  \\\n",
       "0            22500       Cloudrino         Technology   \n",
       "1            25000  Newspatrolling  Consumer Internet   \n",
       "2            30000  Book Servicing  Consumer Internet   \n",
       "3            30000        goSporto  Consumer Internet   \n",
       "4            30000       Perfumery          ECommerce   \n",
       "\n",
       "                                   Sub-Vertical  State  \\\n",
       "0                   Cloud based Virtual Servers  Delhi   \n",
       "1                            Online News portal  Delhi   \n",
       "2      Online Vehicle Services Booking platform  Delhi   \n",
       "3  Online Sports discovery and booking platform  Delhi   \n",
       "4                  Fragrances & Perfume eTailer  Delhi   \n",
       "\n",
       "                                     Investors’ Name Investment Type  2017  \\\n",
       "0                             The Ten Minute Million    Seed Funding  5533   \n",
       "1                                        Undisclosed    Seed Funding  5533   \n",
       "2  National Science and Technology Entrepreneursh...    Seed Funding  5533   \n",
       "3                                       Naveen Gupta    Seed Funding  5533   \n",
       "4                             Oranda Global & Others    Seed Funding  5533   \n",
       "\n",
       "   Rank  \n",
       "0     2  \n",
       "1     2  \n",
       "2     2  \n",
       "3     2  \n",
       "4     2  "
      ]
     },
     "execution_count": 16,
     "metadata": {},
     "output_type": "execute_result"
    }
   ],
   "source": [
    "df.head()"
   ]
  },
  {
   "cell_type": "code",
   "execution_count": 17,
   "id": "56429354",
   "metadata": {},
   "outputs": [
    {
     "name": "stdout",
     "output_type": "stream",
     "text": [
      "<class 'pandas.core.frame.DataFrame'>\n",
      "Int64Index: 290 entries, 0 to 290\n",
      "Data columns (total 9 columns):\n",
      " #   Column           Non-Null Count  Dtype \n",
      "---  ------           --------------  ----- \n",
      " 0   Amount (In USD)  290 non-null    int64 \n",
      " 1   Startup Name     290 non-null    object\n",
      " 2   Industry         290 non-null    object\n",
      " 3   Sub-Vertical     290 non-null    object\n",
      " 4   State            290 non-null    object\n",
      " 5   Investors’ Name  286 non-null    object\n",
      " 6   Investment Type  290 non-null    object\n",
      " 7   2017             290 non-null    int64 \n",
      " 8   Rank             290 non-null    int64 \n",
      "dtypes: int64(3), object(6)\n",
      "memory usage: 22.7+ KB\n"
     ]
    }
   ],
   "source": [
    "df.info('Amount (In USD)')"
   ]
  },
  {
   "cell_type": "code",
   "execution_count": 18,
   "id": "ccf2dd5b",
   "metadata": {},
   "outputs": [
    {
     "name": "stdout",
     "output_type": "stream",
     "text": [
      "Amount (In USD)    1.000000\n",
      "2017               0.012304\n",
      "Rank               0.007428\n",
      "Name: Amount (In USD), dtype: float64\n"
     ]
    }
   ],
   "source": [
    "### All correlations between 'Amount (In USD)' and all other features\n",
    "print(df.corr()['Amount (In USD)'].abs().sort_values(ascending=False))"
   ]
  },
  {
   "cell_type": "markdown",
   "id": "000ee563",
   "metadata": {},
   "source": [
    "Highest correlation between Investment type and Amount in USD."
   ]
  },
  {
   "cell_type": "markdown",
   "id": "b6aa1dda",
   "metadata": {},
   "source": [
    "EDA: Exploratory Data Analysis"
   ]
  },
  {
   "cell_type": "code",
   "execution_count": 19,
   "id": "ccdb95f1",
   "metadata": {},
   "outputs": [
    {
     "name": "stdout",
     "output_type": "stream",
     "text": [
      "1000000    32\n",
      "100000     15\n",
      "500000     14\n",
      "2000000    12\n",
      "5000000    12\n",
      "           ..\n",
      "441000      1\n",
      "376000      1\n",
      "375000      1\n",
      "336000      1\n",
      "3584000     1\n",
      "Name: Amount (In USD), Length: 123, dtype: int64\n"
     ]
    },
    {
     "data": {
      "image/png": "[encoded data removed]",
      "text/plain": [
       "<Figure size 432x288 with 1 Axes>"
      ]
     },
     "metadata": {
      "needs_background": "light"
     },
     "output_type": "display_data"
    }
   ],
   "source": [
    "y = df['Amount (In USD)']\n",
    "sns.countplot(y)\n",
    "price_temp = df['Amount (In USD)'].value_counts()\n",
    "print(price_temp)"
   ]
  },
  {
   "cell_type": "code",
   "execution_count": 20,
   "id": "532f4ab3",
   "metadata": {},
   "outputs": [
    {
     "data": {
      "text/plain": [
       "[Text(0.5, 0, 'Amount (In USD)'), Text(0, 0.5, 'Amount in USD in MM')]"
      ]
     },
     "execution_count": 20,
     "metadata": {},
     "output_type": "execute_result"
    },
    {
     "data": {
      "image/png": "[encoded data removed]",
      "text/plain": [
       "<Figure size 432x288 with 1 Axes>"
      ]
     },
     "metadata": {
      "needs_background": "light"
     },
     "output_type": "display_data"
    }
   ],
   "source": [
    "ax = sns.barplot(df['Amount (In USD)'],y)\n",
    "ax.set(xlabel='Amount (In USD)', ylabel='Amount in USD in MM')"
   ]
  },
  {
   "cell_type": "code",
   "execution_count": 21,
   "id": "7c585b49",
   "metadata": {},
   "outputs": [
    {
     "data": {
      "text/plain": [
       "[Text(0.5, 0, 'Rank'), Text(0, 0.5, 'Rank in MM $')]"
      ]
     },
     "execution_count": 21,
     "metadata": {},
     "output_type": "execute_result"
    },
    {
     "data": {
      "image/png": "[encoded data removed]",
      "text/plain": [
       "<Figure size 432x288 with 1 Axes>"
      ]
     },
     "metadata": {
      "needs_background": "light"
     },
     "output_type": "display_data"
    }
   ],
   "source": [
    "ax=sns.barplot(df['Rank'],y)\n",
    "ax.set(xlabel='Rank', ylabel='Rank in MM $')"
   ]
  },
  {
   "cell_type": "code",
   "execution_count": 22,
   "id": "b80291ca",
   "metadata": {},
   "outputs": [
    {
     "ename": "NameError",
     "evalue": "name 'df2' is not defined",
     "output_type": "error",
     "traceback": [
      "\u001b[1;31m---------------------------------------------------------------------------\u001b[0m",
      "\u001b[1;31mNameError\u001b[0m                                 Traceback (most recent call last)",
      "\u001b[1;32m~\\AppData\\Local\\Temp/ipykernel_16836/2251099231.py\u001b[0m in \u001b[0;36m<module>\u001b[1;34m\u001b[0m\n\u001b[0;32m      1\u001b[0m \u001b[1;31m### Explore Rank\u001b[0m\u001b[1;33m\u001b[0m\u001b[1;33m\u001b[0m\u001b[0m\n\u001b[1;32m----> 2\u001b[1;33m \u001b[0mdf2\u001b[0m\u001b[1;33m[\u001b[0m\u001b[1;34m'Rank'\u001b[0m\u001b[1;33m]\u001b[0m\u001b[1;33m.\u001b[0m\u001b[0munique\u001b[0m\u001b[1;33m(\u001b[0m\u001b[1;33m)\u001b[0m\u001b[1;33m\u001b[0m\u001b[1;33m\u001b[0m\u001b[0m\n\u001b[0m",
      "\u001b[1;31mNameError\u001b[0m: name 'df2' is not defined"
     ]
    }
   ],
   "source": [
    "### Explore Rank\n",
    "df2['Rank'].unique()"
   ]
  },
  {
   "cell_type": "code",
   "execution_count": null,
   "id": "32dd4401",
   "metadata": {},
   "outputs": [],
   "source": [
    "### Industry\n",
    "df2['Industry'].unique()"
   ]
  },
  {
   "cell_type": "code",
   "execution_count": null,
   "id": "bfe350f0",
   "metadata": {},
   "outputs": [],
   "source": [
    "ax = sns.barplot(df2['Industry'], y)\n",
    "ax.set(xlabel='Industry', ylabel = 'Industry visualization')"
   ]
  },
  {
   "cell_type": "code",
   "execution_count": 23,
   "id": "3495082d",
   "metadata": {},
   "outputs": [
    {
     "data": {
      "text/plain": [
       "array(['Delhi', 'Kerala', 'Chandigarh', 'Goa', 'Haryana', 'Karnataka'],\n",
       "      dtype=object)"
      ]
     },
     "execution_count": 23,
     "metadata": {},
     "output_type": "execute_result"
    }
   ],
   "source": [
    "### State\n",
    "df['State'].unique()"
   ]
  },
  {
   "cell_type": "code",
   "execution_count": 25,
   "id": "b7bb4933",
   "metadata": {},
   "outputs": [
    {
     "data": {
      "text/plain": [
       "[Text(0.5, 0, 'State'), Text(0, 0.5, 'State visualization')]"
      ]
     },
     "execution_count": 25,
     "metadata": {},
     "output_type": "execute_result"
    },
    {
     "data": {
      "image/png": "[encoded data removed]",
      "text/plain": [
       "<Figure size 432x288 with 1 Axes>"
      ]
     },
     "metadata": {
      "needs_background": "light"
     },
     "output_type": "display_data"
    }
   ],
   "source": [
    "ax = sns.barplot(df['State'],y)\n",
    "ax.set(xlabel='State', ylabel='State visualization')"
   ]
  },
  {
   "cell_type": "code",
   "execution_count": 26,
   "id": "4febd608",
   "metadata": {},
   "outputs": [],
   "source": [
    "## Startup Name"
   ]
  },
  {
   "cell_type": "code",
   "execution_count": 28,
   "id": "bcd2af79",
   "metadata": {},
   "outputs": [
    {
     "data": {
      "text/plain": [
       "[Text(0.5, 0, 'Startup Name'), Text(0, 0.5, 'Startup Name Viz')]"
      ]
     },
     "execution_count": 28,
     "metadata": {},
     "output_type": "execute_result"
    },
    {
     "data": {
      "image/png": "[encoded data removed]",
      "text/plain": [
       "<Figure size 432x288 with 1 Axes>"
      ]
     },
     "metadata": {
      "needs_background": "light"
     },
     "output_type": "display_data"
    }
   ],
   "source": [
    "ax = sns.barplot(df['Startup Name'],y)\n",
    "ax.set(xlabel='Startup Name', ylabel='Startup Name Viz')"
   ]
  },
  {
   "cell_type": "markdown",
   "id": "b9565689",
   "metadata": {},
   "source": [
    "Train Test split"
   ]
  },
  {
   "cell_type": "code",
   "execution_count": 29,
   "id": "06937c8a",
   "metadata": {},
   "outputs": [],
   "source": [
    "from sklearn.model_selection import train_test_split"
   ]
  },
  {
   "cell_type": "code",
   "execution_count": 31,
   "id": "da498a43",
   "metadata": {},
   "outputs": [],
   "source": [
    "predictors = df.drop(\"Amount (In USD)\",axis=1)\n",
    "price = df['Amount (In USD)']"
   ]
  },
  {
   "cell_type": "code",
   "execution_count": 32,
   "id": "8b312c64",
   "metadata": {},
   "outputs": [
    {
     "data": {
      "text/plain": [
       "(232, 8)"
      ]
     },
     "execution_count": 32,
     "metadata": {},
     "output_type": "execute_result"
    }
   ],
   "source": [
    "X_train,X_test,y_train,y_test = train_test_split(predictors,price,test_size=0.20,random_state=0)\n",
    "\n",
    "X_train.shape"
   ]
  },
  {
   "cell_type": "code",
   "execution_count": 33,
   "id": "0b429d08",
   "metadata": {},
   "outputs": [
    {
     "data": {
      "text/plain": [
       "(58, 8)"
      ]
     },
     "execution_count": 33,
     "metadata": {},
     "output_type": "execute_result"
    }
   ],
   "source": [
    "X_test.shape"
   ]
  },
  {
   "cell_type": "code",
   "execution_count": 34,
   "id": "3912b689",
   "metadata": {},
   "outputs": [
    {
     "data": {
      "text/plain": [
       "(232, 8)"
      ]
     },
     "execution_count": 34,
     "metadata": {},
     "output_type": "execute_result"
    }
   ],
   "source": [
    "X_train.shape"
   ]
  },
  {
   "cell_type": "code",
   "execution_count": 35,
   "id": "b1478077",
   "metadata": {},
   "outputs": [
    {
     "data": {
      "text/plain": [
       "(232,)"
      ]
     },
     "execution_count": 35,
     "metadata": {},
     "output_type": "execute_result"
    }
   ],
   "source": [
    "y_train.shape"
   ]
  },
  {
   "cell_type": "code",
   "execution_count": 36,
   "id": "e558560f",
   "metadata": {},
   "outputs": [
    {
     "data": {
      "text/plain": [
       "(58,)"
      ]
     },
     "execution_count": 36,
     "metadata": {},
     "output_type": "execute_result"
    }
   ],
   "source": [
    "y_test.shape"
   ]
  },
  {
   "cell_type": "code",
   "execution_count": 37,
   "id": "4c8ede55",
   "metadata": {},
   "outputs": [],
   "source": [
    "### V. Model Fitting\n",
    "from sklearn.metrics import accuracy_score\n",
    "### from sklearn.metrics import accuracy_score accuracy_score(ytest, y_model)"
   ]
  },
  {
   "cell_type": "code",
   "execution_count": null,
   "id": "b154b832",
   "metadata": {},
   "outputs": [],
   "source": [
    "\n",
    "### Logistic Regression\n",
    "from sklearn.linear_model import LogisticRegression\n",
    "lr = LogisticRegression()\n",
    "lr.fit(X_train,y_train)\n",
    "y_pred_lr = lr.predict(X_test)\n",
    "\n",
    "score_lr = round(accuracy_score(y_pred_lr,y_test)*100,2)\n"
   ]
  },
  {
   "cell_type": "code",
   "execution_count": null,
   "id": "1fad50e4",
   "metadata": {},
   "outputs": [],
   "source": []
  },
  {
   "cell_type": "code",
   "execution_count": null,
   "id": "d54a522c",
   "metadata": {},
   "outputs": [],
   "source": []
  }
 ],
 "metadata": {
  "kernelspec": {
   "display_name": "Python 3 (ipykernel)",
   "language": "python",
   "name": "python3"
  },
  "language_info": {
   "codemirror_mode": {
    "name": "ipython",
    "version": 3
   },
   "file_extension": ".py",
   "mimetype": "text/x-python",
   "name": "python",
   "nbconvert_exporter": "python",
   "pygments_lexer": "ipython3",
   "version": "3.9.7"
  }
 },
 "nbformat": 4,
 "nbformat_minor": 5
}
